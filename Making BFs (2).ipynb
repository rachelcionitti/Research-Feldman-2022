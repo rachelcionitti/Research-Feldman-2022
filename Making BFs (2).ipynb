{
 "cells": [
  {
   "cell_type": "code",
   "execution_count": 2,
   "metadata": {},
   "outputs": [],
   "source": [
    "import numpy as np \n",
    "import matplotlib.pyplot as plt\n",
    "from sklearn.datasets import load_iris\n",
    "from sklearn.linear_model import Perceptron\n",
    "import tensorflow as tf \n",
    "from tensorflow import keras\n",
    "import csv\n",
    "import os\n",
    "from keras import backend as K\n",
    "import math\n",
    "from scipy.stats import norm\n",
    "import os\n",
    "import re\n",
    "#rerun large one\n",
    "#add LG grouplike \n",
    "#sentdex youtube series deep learning basics with python and keras tensorboard "
   ]
  },
  {
   "cell_type": "code",
   "execution_count": 8,
   "metadata": {},
   "outputs": [],
   "source": [
    "#make loop with multiple paths and multiple names \n",
    "mainpath = \"C:/Users/19133/Documents/Research/Feldman/Catalogs/\"\n",
    "grouplike_cz_rand = \"CF3-OuterRim-CF3grouplike-cz-rand/CF3-OuterRim-CF3grouplike-cz-rand\"\n",
    "grouplike_cz_LG = \"CF3-OuterRim-CF3grouplike-cz-LG/CF3-OuterRim-CF3grouplike-cz-LG\"\n",
    "cz_angular_LG = \"CF3-OuterRim-cz-angular-LG/CF3-OuterRim-cz-angular-LG\"\n",
    "cz_angular_rand = \"CF3-OuterRim-cz-angular-rand/CF3-OuterRim-cz-angular-rand\"\n",
    "cz_LG = \"CF3-OuterRim-cz-LG_largemass\"\n",
    "cz_LG_not_largemass = \"CF3-OuterRim-cz-LG_not_largemass\"\n",
    "cz_rand = \"CF3-OuterRim-cz-rand/CF3-OuterRim-cz-rand\"\n",
    "\n",
    "for y in [grouplike_cz_rand,grouplike_cz_LG,cz_angular_LG,cz_angular_rand,cz_LG,cz_LG_not_largemass,cz_rand]:\n",
    "    bulkflows = [] \n",
    "    for x in os.listdir(mainpath + y):\n",
    "        #x,y,z,vx,vy,vz, cz, r, vr, dv, glon,and glat.\n",
    "        temp = re.findall(r'\\d+', x)\n",
    "        res = list(map(int, temp))\n",
    "        if y == grouplike_cz_rand or y == grouplike_cz_LG:\n",
    "            box = res[2]\n",
    "        else: \n",
    "            box=res[3]\n",
    "        \n",
    "        data = np.load(mainpath + y + \"/\" + x)\n",
    "\n",
    "        dist = data[:,7]\n",
    "        within_sphere = np.where(dist <= 150) \n",
    "\n",
    "        vx = data[:,3][within_sphere]\n",
    "        vy = data[:,4][within_sphere]\n",
    "        vz = data[:,5][within_sphere] \n",
    "\n",
    "        avg_vx = np.sum(vx)/len(vx)\n",
    "        avg_vy= np.sum(vy)/len(vy)\n",
    "        avg_vz= np.sum(vz)/len(vz)\n",
    "\n",
    "        bulkflow = np.array([avg_vx,avg_vy,avg_vz,box]) \n",
    "\n",
    "        bulkflows.append(bulkflow)\n",
    "\n",
    "    bulkflows1 = np.array(bulkflows)\n",
    "    if (\"/\" in str(y)) == True:\n",
    "        np.save(str(y.rpartition('/')[0])+\"_150.npy\",bulkflows1)\n",
    "    else: \n",
    "        np.save(str(y)+\"_150.npy\",bulkflows1)"
   ]
  }
 ],
 "metadata": {
  "kernelspec": {
   "display_name": "Python 3",
   "language": "python",
   "name": "python3"
  },
  "language_info": {
   "codemirror_mode": {
    "name": "ipython",
    "version": 3
   },
   "file_extension": ".py",
   "mimetype": "text/x-python",
   "name": "python",
   "nbconvert_exporter": "python",
   "pygments_lexer": "ipython3",
   "version": "3.7.6"
  }
 },
 "nbformat": 4,
 "nbformat_minor": 4
}
