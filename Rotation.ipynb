{
  "nbformat": 4,
  "nbformat_minor": 0,
  "metadata": {
    "colab": {
      "name": "Rotation.ipynb",
      "provenance": [],
      "collapsed_sections": []
    },
    "kernelspec": {
      "name": "python3",
      "display_name": "Python 3"
    },
    "language_info": {
      "name": "python"
    }
  },
  "cells": [
    {
      "cell_type": "code",
      "execution_count": null,
      "metadata": {
        "id": "5yZJRLIO_Ipt"
      },
      "outputs": [],
      "source": [
        "import numpy as np \n",
        "import matplotlib.pyplot as plt\n",
        "from sklearn.datasets import load_iris\n",
        "from sklearn.linear_model import Perceptron\n",
        "import tensorflow as tf \n",
        "from tensorflow import keras\n",
        "from tensorflow.keras.models import Sequential \n",
        "from tensorflow.keras.layers import Dense\n",
        "from sklearn.datasets import fetch_california_housing\n",
        "from sklearn.model_selection import train_test_split\n",
        "from sklearn.preprocessing import StandardScaler\n",
        "import csv\n",
        "import os\n",
        "from keras import backend as K\n",
        "import math\n",
        "from scipy.stats import norm\n",
        "from sklearn.ensemble import RandomForestRegressor\n",
        "import os\n",
        "from scipy.spatial.transform import Rotation as R\n",
        "import re"
      ]
    },
    {
      "cell_type": "code",
      "source": [
        "from google.colab import drive\n",
        "drive.mount('/content/drive')\n",
        "#/content/drive/My Drive\n",
        "\n",
        "#for x in os.listdir(\"/content/drive/My Drive/rachel rotated data\"):\n",
        "#    data = np.load(\"/content/drive/My Drive/rachel rotated data/\"+x)"
      ],
      "metadata": {
        "colab": {
          "base_uri": "https://localhost:8080/"
        },
        "id": "q8Skr_hg_U1R",
        "outputId": "5429aab5-2367-4248-afc5-5b7404dfee06"
      },
      "execution_count": null,
      "outputs": [
        {
          "output_type": "stream",
          "name": "stdout",
          "text": [
            "Drive already mounted at /content/drive; to attempt to forcibly remount, call drive.mount(\"/content/drive\", force_remount=True).\n"
          ]
        }
      ]
    },
    {
      "cell_type": "code",
      "source": [
        "files_list = [] \n",
        "for x in os.listdir(\"/content/drive/My Drive/Research/outerrim/CF3-OuterRim-CF3grouplike-cz-rand\"):\n",
        "  if x[0] == str('C'): \n",
        "    files_list.append(x)\n",
        "  else:\n",
        "    pass"
      ],
      "metadata": {
        "id": "E3bGmxw5AtfP"
      },
      "execution_count": null,
      "outputs": []
    },
    {
      "cell_type": "code",
      "source": [
        "#scale of bulkflows used for this set is 150 MPC \n",
        "bulkflows = np.load(\"/content/drive/My Drive/Research/outerrim/CF3-OuterRim-CF3grouplike-cz-rand/true_bulkflows150.npy\")\n",
        "bulkflows[:,0]"
      ],
      "metadata": {
        "colab": {
          "base_uri": "https://localhost:8080/"
        },
        "id": "emJFtgzl_KBU",
        "outputId": "1b2dd135-2e86-47b6-8de2-6d51aa03ef9d"
      },
      "execution_count": null,
      "outputs": [
        {
          "output_type": "execute_result",
          "data": {
            "text/plain": [
              "array([ -25.39076889,  148.71427005, -144.27017343])"
            ]
          },
          "metadata": {},
          "execution_count": 4
        }
      ]
    },
    {
      "cell_type": "code",
      "source": [
        "#using all catalogs and rotating each i amount of times \n",
        "\n",
        "galaxy_index = []\n",
        "path = \"/content/drive/My Drive/Research/outerrim/CF3-OuterRim-CF3grouplike-cz-rand\"\n",
        "\n",
        "for x in files_list: \n",
        "    data = np.load(path + \"/\" + x)\n",
        "\n",
        "    i = 0 \n",
        "    while i < 1: \n",
        "        temp = re.findall(r'\\d+', x)\n",
        "        res = list(map(int, temp))\n",
        "        bulkflow_ind = res[2]\n",
        "        galaxy_index.append(bulkflow_ind)\n",
        "\n",
        "        bulkflow = bulkflows[:,bulkflow_ind] #0 - bulkflow ind\n",
        "\n",
        "        rshift = data[:,6]\n",
        "        distmod = 5*np.log(data[:,7]) + 25 \n",
        "        distmod_err = np.random.normal(0, 0.4, len(distmod))\n",
        "\n",
        "        glon= data[:,10]*np.pi/180\n",
        "        glat= data[:,11]*np.pi/180\n",
        "\n",
        "        #make glon and glat into array of positions on the unit sphere\n",
        "        pos= np.array([np.cos(glon)*np.cos(glat),np.sin(glon)*np.cos(glat),np.sin(glat)])\n",
        "        pos=np.transpose(pos)\n",
        "\n",
        "        alpha= 2*np.pi*np.random.random()  #generate random rotation angles\n",
        "        gamma= 2*np.pi*np.random.random()\n",
        "        beta= np.pi*np.random.random()\n",
        "\n",
        "        r = R.from_euler('xzx', [alpha,beta,gamma]) #create the rotation\n",
        "\n",
        "        posprime=r.apply(pos)  #apply the rotation to the vectors\n",
        "\n",
        "        #bulkflows already in cartesian, so no transformation like above? \n",
        "        bulkflowprime=r.apply(bulkflow)\n",
        "\n",
        "        #rotated_bulkflows.append(bulkflowprime)\n",
        "\n",
        "        glonprime= np.arctan2(posprime[:,1],posprime[:,0])*180/np.pi  #convert back to glon and glat\n",
        "        glonprime[glonprime<0]= 360+glonprime[glonprime<0]\n",
        "\n",
        "        glatprime= np.arcsin(posprime[:,2])*180/np.pi\n",
        "\n",
        "        # add rshift, dist mod, dist mod error, glon, glat, bulk flow to new file \n",
        "        with open('/content/drive/My Drive/Rotated new all diff/Rotated Catalog' + str(bulkflow_ind) + '_' + str(i) + '.npy.npz', 'wb') as f:\n",
        "            #stuff = np.array([rshift,glonprime,glatprime,distmod,distmod_err,bulkflowprime])\n",
        "            np.savez(f, redshift=rshift, glon=glonprime, glat=glatprime, distm = distmod, distmerr = distmod_err, bulkflow=bulkflowprime)\n",
        "            f.close()\n",
        "\n",
        "        i+=1"
      ],
      "metadata": {
        "id": "vqNl-mWr_L9m"
      },
      "execution_count": null,
      "outputs": []
    },
    {
      "cell_type": "code",
      "source": [
        "#just one catalog, rotate i amount of times\n",
        "galaxy_index = []\n",
        "path = \"/content/drive/My Drive/Research/outerrim/CF3-OuterRim-CF3grouplike-cz-rand\"\n",
        "\n",
        "x = files_list[0]\n",
        "data = np.load(path + \"/\" + x)\n",
        "\n",
        "i = 0 \n",
        "while i < 3000: \n",
        "    temp = re.findall(r'\\d+', x)\n",
        "    res = list(map(int, temp))\n",
        "    bulkflow_ind = res[2]\n",
        "    galaxy_index.append(bulkflow_ind)\n",
        "\n",
        "    bulkflow = bulkflows[:,bulkflow_ind] #0 - bulkflow ind\n",
        "\n",
        "    rshift = data[:,6]\n",
        "    distmod = 5*np.log(data[:,7]) + 25 \n",
        "    distmod_err = np.random.normal(0, 0.4, len(distmod))\n",
        "\n",
        "    glon= data[:,10]*np.pi/180\n",
        "    glat= data[:,11]*np.pi/180\n",
        "\n",
        "    #make glon and glat into array of positions on the unit sphere\n",
        "    pos= np.array([np.cos(glon)*np.cos(glat),np.sin(glon)*np.cos(glat),np.sin(glat)])\n",
        "    pos=np.transpose(pos)\n",
        "\n",
        "    alpha= 2*np.pi*np.random.random()  #generate random rotation angles\n",
        "    gamma= 2*np.pi*np.random.random()\n",
        "    beta= np.pi*np.random.random()\n",
        "\n",
        "    r = R.from_euler('xzx', [alpha,beta,gamma]) #create the rotation\n",
        "\n",
        "    posprime=r.apply(pos)  #apply the rotation to the vectors\n",
        "\n",
        "    #bulkflows already in cartesian, so no transformation like above? \n",
        "    bulkflowprime=r.apply(bulkflow)\n",
        "\n",
        "    #rotated_bulkflows.append(bulkflowprime)\n",
        "\n",
        "    glonprime= np.arctan2(posprime[:,1],posprime[:,0])*180/np.pi  #convert back to glon and glat\n",
        "    glonprime[glonprime<0]= 360+glonprime[glonprime<0]\n",
        "\n",
        "    glatprime= np.arcsin(posprime[:,2])*180/np.pi\n",
        "\n",
        "    # add rshift, dist mod, dist mod error, glon, glat, bulk flow to new file \n",
        "    with open('/content/drive/My Drive/Rotated/Rotated Catalog' + str(bulkflow_ind) + '_' + str(i) + '.npy.npz', 'wb') as f:\n",
        "        #stuff = np.array([rshift,glonprime,glatprime,distmod,distmod_err,bulkflowprime])\n",
        "        np.savez(f, redshift=rshift, glon=glonprime, glat=glatprime, distm = distmod, distmerr = distmod_err, bulkflow=bulkflowprime)\n",
        "        f.close()\n",
        "\n",
        "    i+=1"
      ],
      "metadata": {
        "id": "goqmTYmLFv-T"
      },
      "execution_count": null,
      "outputs": []
    },
    {
      "cell_type": "code",
      "source": [
        "files_list[1] #didn't work???"
      ],
      "metadata": {
        "colab": {
          "base_uri": "https://localhost:8080/",
          "height": 35
        },
        "id": "vk_9YEmkVn8e",
        "outputId": "0486cc9f-7a72-45e2-a53e-70b406f966c8"
      },
      "execution_count": null,
      "outputs": [
        {
          "output_type": "execute_result",
          "data": {
            "text/plain": [
              "'CF3-OuterRim-CF3grouplike-cz-rand-box-254.npy'"
            ],
            "application/vnd.google.colaboratory.intrinsic+json": {
              "type": "string"
            }
          },
          "metadata": {},
          "execution_count": 9
        }
      ]
    }
  ]
}