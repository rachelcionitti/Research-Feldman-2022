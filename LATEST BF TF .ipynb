{
 "cells": [
  {
   "cell_type": "code",
   "execution_count": 11,
   "metadata": {
    "id": "zBOBP3vi6vBA"
   },
   "outputs": [],
   "source": [
    "import numpy as np \n",
    "import matplotlib.pyplot as plt\n",
    "from sklearn.datasets import load_iris\n",
    "from sklearn.linear_model import Perceptron\n",
    "import tensorflow as tf \n",
    "from tensorflow import keras\n",
    "import csv\n",
    "import os\n",
    "from keras import backend as K\n",
    "import math\n",
    "from scipy.stats import norm\n",
    "import os\n",
    "import re\n",
    "from tensorflow.keras.callbacks import TensorBoard\n",
    "import datetime"
   ]
  },
  {
   "cell_type": "code",
   "execution_count": 12,
   "metadata": {},
   "outputs": [],
   "source": [
    "num_epochs = 40 \n",
    "num_conv = 3 \n",
    "train_per = .75 \n",
    "\n",
    "log_dir = \"logs/fit/\" + datetime.datetime.now().strftime(\"%Y%m%d-%H%M%S\")\n",
    "tensorboard_callback = tf.keras.callbacks.TensorBoard(log_dir=log_dir, histogram_freq=1)\n",
    "#python -m tensorboard.main --logdir=<path to log file> --port=6006\n",
    "#in directory of logs in anaconda prompt\n",
    "#had to install cuda "
   ]
  },
  {
   "cell_type": "code",
   "execution_count": 13,
   "metadata": {
    "id": "NCdI0Jsb646T"
   },
   "outputs": [],
   "source": [
    "cutoff = 16000\n",
    "#this is the length I'm cutting off the data just arbitrarily when I'm using multiple catalogs\n",
    "#but here since i'm only using one it doesn't matter \n",
    "\n",
    "master_rshift = []\n",
    "master_dist_mod = [] #errors added on \n",
    "master_glat = [] \n",
    "master_glon = [] \n",
    "bulkflows = [] \n",
    "#I use this to determine the shortest length of data when using varied catalogs \n",
    "\n",
    "for x in os.listdir(\"C:/Users/19133/Documents/Research/Feldman/Catalogs/1500_cats_5_rots\"):\n",
    "    data = np.load(\"C:/Users/19133/Documents/Research/Feldman/Catalogs/1500_cats_5_rots/\"+x)\n",
    "    master_rshift.append(data['redshift'][:cutoff])\n",
    "    master_dist_mod.append(data['distm'][:cutoff] + data['distmerr'][:cutoff])\n",
    "    master_glat.append(data['glat'][:cutoff])\n",
    "    master_glon.append(data['glon'][:cutoff])\n",
    "    bulkflows.append(data['bulkflow'])\n",
    "    \n",
    "master_bulkflows = np.array(bulkflows) #cutoff is number of files \n",
    "\n",
    "#I scale the data to be between 0 and 1 here, where I am scaling it by the \n",
    "#largest value of all the data, as opposed to scaling each by \n",
    "#the maximum of that array respectively \n",
    "#not sure if this is the best approach? \n",
    "\n",
    "redshift = np.array(master_rshift)/np.max(np.concatenate(np.array(master_rshift))) \n",
    "distm = np.array(master_dist_mod)/np.max(np.concatenate(np.array(master_dist_mod)))\n",
    "glat = np.array(master_glat)/np.max(np.concatenate(np.array(master_glat)))\n",
    "glon = np.array(master_glon)/np.max(np.concatenate(np.array(master_glon)))\n",
    "\n",
    "x_max = max(master_bulkflows[:,0])\n",
    "y_max = max(master_bulkflows[:,1])\n",
    "z_max = max(master_bulkflows[:,2])\n",
    "bf_max = max(x_max, y_max, z_max)\n",
    "#that is different! \n",
    "\n",
    "master_bulkflows_scaled = [] \n",
    "for x in master_bulkflows: \n",
    "    master_bulkflows_scaled.append(x/np.array([bf_max,bf_max,bf_max]))"
   ]
  },
  {
   "cell_type": "code",
   "execution_count": 14,
   "metadata": {
    "id": "tTka9Pz9xKcE"
   },
   "outputs": [],
   "source": [
    "X = np.stack([redshift,distm,glat,glon],axis=-1) \n",
    "y = np.array(master_bulkflows_scaled)"
   ]
  },
  {
   "cell_type": "code",
   "execution_count": 15,
   "metadata": {
    "id": "O0LV31VbdWUq"
   },
   "outputs": [],
   "source": [
    "#random selection, mixing it up \n",
    "test_percent = 0.3\n",
    "\n",
    "indx1 = np.arange(0,len(X))\n",
    "indx2 = np.random.choice(indx1, size=int(len(X)*test_percent), replace=False)\n",
    "for x in indx1:\n",
    "    if x in indx2:\n",
    "        indx1 = np.delete(indx1,np.where(indx1 == x))\n",
    "    else:\n",
    "        True\n",
    "\n",
    "X_train,X_test = (X[indx1], X[indx2])\n",
    "y_train,y_test = (y[indx1], y[indx2])"
   ]
  },
  {
   "cell_type": "code",
   "execution_count": 16,
   "metadata": {
    "id": "LbzWOpUqcG_u"
   },
   "outputs": [],
   "source": [
    "#not random selection \n",
    "train_percent = 0.75\n",
    "X_train,X_test = (X[:int(len(X)*train_percent)], X[int(len(X)*train_percent)::])\n",
    "y_train,y_test = (y[:int(len(y)*train_percent)], y[int(len(y)*train_percent)::])"
   ]
  },
  {
   "cell_type": "code",
   "execution_count": 17,
   "metadata": {
    "colab": {
     "base_uri": "https://localhost:8080/"
    },
    "id": "Hv4k3aCncdDZ",
    "outputId": "23f8e64a-0270-4b59-c079-e4a6875503f7"
   },
   "outputs": [
    {
     "name": "stdout",
     "output_type": "stream",
     "text": [
      "Epoch 1/40\n",
      "124/124 [==============================] - 208s 2s/step - loss: 0.0805 - accuracy: 0.3636 - val_loss: 0.0666 - val_accuracy: 0.3300\n",
      "Epoch 2/40\n",
      "124/124 [==============================] - 201s 2s/step - loss: 0.0720 - accuracy: 0.4650 - val_loss: 0.0631 - val_accuracy: 0.3928\n",
      "Epoch 3/40\n",
      "124/124 [==============================] - 202s 2s/step - loss: 0.0639 - accuracy: 0.5438 - val_loss: 0.0635 - val_accuracy: 0.4070\n",
      "Epoch 4/40\n",
      "124/124 [==============================] - 202s 2s/step - loss: 0.0574 - accuracy: 0.5555 - val_loss: 0.0623 - val_accuracy: 0.4354\n",
      "Epoch 5/40\n",
      "124/124 [==============================] - 201s 2s/step - loss: 0.0511 - accuracy: 0.6098 - val_loss: 0.0629 - val_accuracy: 0.4301\n",
      "Epoch 6/40\n",
      "124/124 [==============================] - 201s 2s/step - loss: 0.0429 - accuracy: 0.6527 - val_loss: 0.0638 - val_accuracy: 0.4295\n",
      "Epoch 7/40\n",
      "124/124 [==============================] - 202s 2s/step - loss: 0.0356 - accuracy: 0.6513 - val_loss: 0.0625 - val_accuracy: 0.4366\n",
      "Epoch 8/40\n",
      "124/124 [==============================] - 202s 2s/step - loss: 0.0298 - accuracy: 0.7054 - val_loss: 0.0674 - val_accuracy: 0.4129\n",
      "Epoch 9/40\n",
      "124/124 [==============================] - 201s 2s/step - loss: 0.0261 - accuracy: 0.7311 - val_loss: 0.0644 - val_accuracy: 0.4331\n",
      "Epoch 10/40\n",
      "124/124 [==============================] - 203s 2s/step - loss: 0.0223 - accuracy: 0.7472 - val_loss: 0.0655 - val_accuracy: 0.4307\n",
      "Epoch 11/40\n",
      "124/124 [==============================] - 201s 2s/step - loss: 0.0177 - accuracy: 0.7603 - val_loss: 0.0722 - val_accuracy: 0.4236\n",
      "Epoch 12/40\n",
      "124/124 [==============================] - 202s 2s/step - loss: 0.0167 - accuracy: 0.7929 - val_loss: 0.0717 - val_accuracy: 0.4242\n",
      "Epoch 13/40\n",
      "124/124 [==============================] - 202s 2s/step - loss: 0.0130 - accuracy: 0.8284 - val_loss: 0.0695 - val_accuracy: 0.4212\n",
      "Epoch 14/40\n",
      "124/124 [==============================] - 201s 2s/step - loss: 0.0116 - accuracy: 0.8220 - val_loss: 0.0707 - val_accuracy: 0.4212\n",
      "Epoch 15/40\n",
      "124/124 [==============================] - 201s 2s/step - loss: 0.0096 - accuracy: 0.8404 - val_loss: 0.0781 - val_accuracy: 0.4005\n",
      "Epoch 16/40\n",
      "124/124 [==============================] - 201s 2s/step - loss: 0.0105 - accuracy: 0.8459 - val_loss: 0.0746 - val_accuracy: 0.4230\n",
      "Epoch 17/40\n",
      "124/124 [==============================] - 200s 2s/step - loss: 0.0087 - accuracy: 0.8500 - val_loss: 0.0717 - val_accuracy: 0.4212\n",
      "Epoch 18/40\n",
      "124/124 [==============================] - 200s 2s/step - loss: 0.0065 - accuracy: 0.8756 - val_loss: 0.0710 - val_accuracy: 0.4052\n",
      "Epoch 19/40\n",
      "124/124 [==============================] - 200s 2s/step - loss: 0.0052 - accuracy: 0.8898 - val_loss: 0.0721 - val_accuracy: 0.4242\n",
      "Epoch 20/40\n",
      "124/124 [==============================] - 200s 2s/step - loss: 0.0042 - accuracy: 0.8897 - val_loss: 0.0746 - val_accuracy: 0.4147\n",
      "Epoch 21/40\n",
      "124/124 [==============================] - 200s 2s/step - loss: 0.0045 - accuracy: 0.9055 - val_loss: 0.0725 - val_accuracy: 0.4159\n",
      "Epoch 22/40\n",
      "124/124 [==============================] - 200s 2s/step - loss: 0.0034 - accuracy: 0.9132 - val_loss: 0.0733 - val_accuracy: 0.4046\n",
      "Epoch 23/40\n",
      "124/124 [==============================] - 199s 2s/step - loss: 0.0030 - accuracy: 0.9189 - val_loss: 0.0737 - val_accuracy: 0.4171\n",
      "Epoch 24/40\n",
      "124/124 [==============================] - 200s 2s/step - loss: 0.0024 - accuracy: 0.9216 - val_loss: 0.0757 - val_accuracy: 0.4236\n",
      "Epoch 25/40\n",
      "124/124 [==============================] - 200s 2s/step - loss: 0.0028 - accuracy: 0.9243 - val_loss: 0.0746 - val_accuracy: 0.4212\n",
      "Epoch 26/40\n",
      "124/124 [==============================] - 199s 2s/step - loss: 0.0019 - accuracy: 0.9333 - val_loss: 0.0731 - val_accuracy: 0.4046\n",
      "Epoch 27/40\n",
      "124/124 [==============================] - 199s 2s/step - loss: 0.0015 - accuracy: 0.9411 - val_loss: 0.0741 - val_accuracy: 0.4100\n",
      "Epoch 28/40\n",
      "124/124 [==============================] - 199s 2s/step - loss: 0.0013 - accuracy: 0.9406 - val_loss: 0.0732 - val_accuracy: 0.4100\n",
      "Epoch 29/40\n",
      "124/124 [==============================] - 199s 2s/step - loss: 8.4094e-04 - accuracy: 0.9608 - val_loss: 0.0750 - val_accuracy: 0.4188\n",
      "Epoch 30/40\n",
      "124/124 [==============================] - 199s 2s/step - loss: 0.0010 - accuracy: 0.9398 - val_loss: 0.0737 - val_accuracy: 0.4076\n",
      "Epoch 31/40\n",
      "124/124 [==============================] - 199s 2s/step - loss: 6.7190e-04 - accuracy: 0.9649 - val_loss: 0.0741 - val_accuracy: 0.4105\n",
      "Epoch 32/40\n",
      "124/124 [==============================] - 198s 2s/step - loss: 6.7297e-04 - accuracy: 0.9571 - val_loss: 0.0750 - val_accuracy: 0.4105\n",
      "Epoch 33/40\n",
      "124/124 [==============================] - 199s 2s/step - loss: 5.7773e-04 - accuracy: 0.9669 - val_loss: 0.0740 - val_accuracy: 0.4105\n",
      "Epoch 34/40\n",
      "124/124 [==============================] - 199s 2s/step - loss: 3.5435e-04 - accuracy: 0.9698 - val_loss: 0.0740 - val_accuracy: 0.4076\n",
      "Epoch 35/40\n",
      "124/124 [==============================] - 199s 2s/step - loss: 4.0173e-04 - accuracy: 0.9737 - val_loss: 0.0744 - val_accuracy: 0.4117\n",
      "Epoch 36/40\n",
      "124/124 [==============================] - 199s 2s/step - loss: 2.9964e-04 - accuracy: 0.9705 - val_loss: 0.0758 - val_accuracy: 0.3922\n",
      "Epoch 37/40\n",
      "124/124 [==============================] - 199s 2s/step - loss: 7.3054e-04 - accuracy: 0.9571 - val_loss: 0.0740 - val_accuracy: 0.4028\n",
      "Epoch 38/40\n",
      "124/124 [==============================] - 199s 2s/step - loss: 2.1094e-04 - accuracy: 0.9768 - val_loss: 0.0745 - val_accuracy: 0.4082\n",
      "Epoch 39/40\n",
      "124/124 [==============================] - 199s 2s/step - loss: 3.6338e-04 - accuracy: 0.9719 - val_loss: 0.0742 - val_accuracy: 0.4088\n",
      "Epoch 40/40\n",
      "124/124 [==============================] - 199s 2s/step - loss: 2.9877e-04 - accuracy: 0.9685 - val_loss: 0.0738 - val_accuracy: 0.4076\n"
     ]
    },
    {
     "data": {
      "text/plain": [
       "<tensorflow.python.keras.callbacks.History at 0x1d143871508>"
      ]
     },
     "execution_count": 17,
     "metadata": {},
     "output_type": "execute_result"
    }
   ],
   "source": [
    "#Feldmans \n",
    "tf.random.set_seed(982369253487)\n",
    "\n",
    "num_conv = 7 \n",
    "\n",
    "inputs = tf.keras.Input(shape=X_train.shape[1:])\n",
    "#print(inputs)\n",
    "\n",
    "#here, it's like adding a first layer, where the (inputs) means you're putting the last thru this one \n",
    "x = tf.keras.layers.Conv1D(64, 16, activation='relu')(inputs)\n",
    "#print(x.shape)\n",
    "#here you're doing the same thing, putting the last (x) in this new layer (x2) \n",
    "#the input shape is from the shape that the previous (x) CONV layer outputs \n",
    "#I don't know quite what the shape *means*, but you have to basically have the \n",
    "#input shape of a layer be whatever shape the last one output \n",
    "x2 = tf.keras.layers.Conv1D(32, 8, input_shape=x.shape[1:], activation='tanh')(x) # tanh\n",
    "#print(x2.shape[1:])\n",
    "x3 = tf.keras.layers.Conv1D(32, 6, input_shape=x2.shape[1:], activation='relu')(x2)\n",
    "\n",
    "if num_conv > 3:\n",
    "    x4 = tf.keras.layers.Conv1D(32, 6, input_shape=x3.shape[1:], activation='tanh')(x3)\n",
    "    x5 = tf.keras.layers.Conv1D(32, 6, input_shape=x4.shape[1:], activation='relu')(x4)\n",
    "\n",
    "if num_conv > 5:\n",
    "    x6 = tf.keras.layers.Conv1D(32, 6, input_shape=x5.shape[1:], activation='tanh')(x5)\n",
    "    x7 = tf.keras.layers.Conv1D(32, 4, input_shape=x6.shape[1:], activation='relu')(x6)\n",
    "\n",
    "if num_conv > 7:\n",
    "    x8 = tf.keras.layers.Conv1D(32, 4, input_shape=x5.shape[1:], activation='tanh')(x7)\n",
    "    x9 = tf.keras.layers.Conv1D(32, 4, input_shape=x6.shape[1:], activation='relu')(x8)\n",
    "\n",
    "#now to put in our last layer, the dense layer, we have to flatten it to get our 3D single arrays \n",
    "#Flatten is itself a type of layer \n",
    "if num_conv == 3:\n",
    "    xf = tf.keras.layers.Flatten()(x3)\n",
    "if num_conv == 5:\n",
    "    xf = tf.keras.layers.Flatten()(x5)\n",
    "if num_conv == 7:\n",
    "    xf = tf.keras.layers.Flatten()(x7)\n",
    "if num_conv == 9:\n",
    "    xf = tf.keras.layers.Flatten()(x9)\n",
    "\n",
    "\n",
    "outputs = tf.keras.layers.Dense(3,activation='linear')(xf)\n",
    "\n",
    "model1 = tf.keras.Model(inputs=inputs,outputs=outputs)\n",
    "optimizer = tf.keras.optimizers.Adam(learning_rate=0.00001)\n",
    "model1.compile(loss='mean_squared_error', optimizer=optimizer, metrics=['accuracy'])\n",
    "model1.fit(X_train,y_train,epochs=40,validation_split = 0.3,\n",
    "           callbacks = [tensorboard_callback])"
   ]
  },
  {
   "cell_type": "code",
   "execution_count": 19,
   "metadata": {
    "colab": {
     "base_uri": "https://localhost:8080/",
     "height": 851
    },
    "id": "WCJao3XTfjVL",
    "outputId": "b4a51d35-4403-49d0-f789-eac3f171d521"
   },
   "outputs": [
    {
     "data": {
      "image/png": "[encoded data removed]",
      "text/plain": [
       "<Figure size 432x288 with 1 Axes>"
      ]
     },
     "metadata": {
      "needs_background": "light"
     },
     "output_type": "display_data"
    },
    {
     "data": {
      "image/png": "[encoded data removed]",
      "text/plain": [
       "<Figure size 432x288 with 1 Axes>"
      ]
     },
     "metadata": {
      "needs_background": "light"
     },
     "output_type": "display_data"
    },
    {
     "data": {
      "image/png": "[encoded data removed]",
      "text/plain": [
       "<Figure size 432x288 with 1 Axes>"
      ]
     },
     "metadata": {
      "needs_background": "light"
     },
     "output_type": "display_data"
    }
   ],
   "source": [
    "#this is with random selection \n",
    "#do tensorboard!\n",
    "y_pred = model1.predict(X_test)\n",
    "plt.plot(y_test[:,0]*x_max,y_test[:,0]*x_max)\n",
    "plt.plot(y_test[:,0]*x_max,y_pred[:,0]*x_max,'ro')\n",
    "#plt.ylim(-15,0)\n",
    "plt.title('Predicted x components')\n",
    "plt.xlabel('km/s')\n",
    "plt.ylabel('km/s')\n",
    "plt.savefig('x')\n",
    "plt.show()\n",
    "\n",
    "plt.plot(y_test[:,1]*y_max,y_test[:,1]*y_max)\n",
    "plt.plot(y_test[:,1]*y_max,y_pred[:,1]*y_max,'ro')\n",
    "#plt.ylim(-5,10)\n",
    "plt.title('Predicted y components')\n",
    "plt.xlabel('km/s')\n",
    "plt.ylabel('km/s')\n",
    "plt.savefig('y')\n",
    "plt.show()\n",
    "\n",
    "plt.plot(y_test[:,2]*z_max,y_test[:,2]*z_max)\n",
    "plt.plot(y_test[:,2]*z_max,y_pred[:,2]*z_max,'ro')\n",
    "#plt.ylim(-10,2)\n",
    "plt.title('Predicted z components')\n",
    "plt.xlabel('km/s')\n",
    "plt.ylabel('km/s')\n",
    "plt.savefig('z')\n",
    "plt.show()"
   ]
  },
  {
   "cell_type": "code",
   "execution_count": null,
   "metadata": {
    "colab": {
     "base_uri": "https://localhost:8080/",
     "height": 380
    },
    "id": "QfDGFcrL7Cr9",
    "outputId": "afa83927-dfff-4b9f-d541-71a3e63e4119"
   },
   "outputs": [],
   "source": [
    "#this is with random selection \n",
    "\n",
    "y_pred = model1.predict(X_test)\n",
    "plt.plot(y_test[:,0]*x_max,y_test[:,0]*x_max)\n",
    "plt.plot(y_test[:,0]*x_max,y_pred[:,0]*x_max,'ro')\n",
    "#plt.ylim(-15,0)\n",
    "plt.title('Predicted x components')\n",
    "plt.xlabel('km/s')\n",
    "plt.ylabel('km/s')\n",
    "plt.show()\n",
    "\n",
    "plt.plot(y_test[:,1]*y_max,y_test[:,1]*y_max)\n",
    "plt.plot(y_test[:,1]*y_max,y_pred[:,1]*y_max,'ro')\n",
    "#plt.ylim(-5,10)\n",
    "plt.title('Predicted y components')\n",
    "plt.xlabel('km/s')\n",
    "plt.ylabel('km/s')\n",
    "plt.show()\n",
    "\n",
    "plt.plot(y_test[:,2]*z_max,y_test[:,2]*z_max)\n",
    "plt.plot(y_test[:,2]*z_max,y_pred[:,2]*z_max,'ro')\n",
    "#plt.ylim(-10,2)\n",
    "plt.title('Predicted z components')\n",
    "plt.xlabel('km/s')\n",
    "plt.ylabel('km/s')\n",
    "plt.show()\n",
    "\n",
    "#300 catalogs, rotated 20 times each\n",
    "#see difference between this and random selection \n",
    "#then make sure rotation codes are same? - did that "
   ]
  },
  {
   "cell_type": "code",
   "execution_count": null,
   "metadata": {
    "colab": {
     "base_uri": "https://localhost:8080/"
    },
    "id": "2Ud_1DVwWmSq",
    "outputId": "b05f6340-d4a1-4707-9710-867c8c8029e1"
   },
   "outputs": [],
   "source": [
    "len(master_rshift)"
   ]
  },
  {
   "cell_type": "code",
   "execution_count": null,
   "metadata": {
    "id": "fkDg_WtlDvM_"
   },
   "outputs": [],
   "source": [
    "x_preds = y_pred[:,0]*x_max\n",
    "y_preds = y_pred[:,1]*y_max\n",
    "z_preds = y_pred[:,2]*z_max\n",
    "\n",
    "bulkflows_pred = np.sqrt(x_preds**2 + y_preds**2 + z_preds**2)\n",
    "bulkflows_pred_yz = np.sqrt(y_preds**2 + z_preds**2)\n",
    "\n",
    "x_true = y_test[:,0]*x_max\n",
    "y_true = y_test[:,1]*y_max\n",
    "z_true = y_test[:,2]*z_max\n",
    "\n",
    "bulkflows_true = np.sqrt(x_true**2 + y_true**2 + z_true**2)\n",
    "bulkflows_true_yz = np.sqrt(y_true**2 + z_true**2)"
   ]
  },
  {
   "cell_type": "code",
   "execution_count": null,
   "metadata": {
    "colab": {
     "base_uri": "https://localhost:8080/",
     "height": 295
    },
    "id": "HQJiS2rsEp3X",
    "outputId": "f16fcff5-f105-4cac-84c3-6a357bf4b2eb"
   },
   "outputs": [],
   "source": [
    "plt.plot(bulkflows_true,bulkflows_pred,'ro')\n",
    "plt.plot(bulkflows_true,bulkflows_true,'bo')"
   ]
  },
  {
   "cell_type": "code",
   "execution_count": null,
   "metadata": {
    "colab": {
     "base_uri": "https://localhost:8080/",
     "height": 282
    },
    "id": "dh68vajDNKPs",
    "outputId": "2cb2427b-63b3-4527-f7b1-5a5119b1af1a"
   },
   "outputs": [],
   "source": [
    "plt.plot(bulkflows_true_yz,bulkflows_pred_yz,'ro')\n",
    "plt.plot(bulkflows_true_yz,bulkflows_true_yz,'bo')"
   ]
  }
 ],
 "metadata": {
  "colab": {
   "collapsed_sections": [],
   "name": "Copy of Copy of Bulk Flow TF.ipynb",
   "provenance": []
  },
  "kernelspec": {
   "display_name": "Python 3",
   "language": "python",
   "name": "python3"
  },
  "language_info": {
   "codemirror_mode": {
    "name": "ipython",
    "version": 3
   },
   "file_extension": ".py",
   "mimetype": "text/x-python",
   "name": "python",
   "nbconvert_exporter": "python",
   "pygments_lexer": "ipython3",
   "version": "3.7.6"
  }
 },
 "nbformat": 4,
 "nbformat_minor": 1
}
